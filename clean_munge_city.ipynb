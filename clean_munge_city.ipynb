{
 "cells": [
  {
   "cell_type": "markdown",
   "metadata": {},
   "source": [
    "# Data Cleaning and Munging Script - City Data Portal"
   ]
  },
  {
   "cell_type": "code",
   "execution_count": 3,
   "metadata": {
    "scrolled": true
   },
   "outputs": [],
   "source": [
    "import pandas as pd"
   ]
  },
  {
   "cell_type": "code",
   "execution_count": 16,
   "metadata": {},
   "outputs": [],
   "source": [
    "austin_zips = (78701,\n",
    "78702,\n",
    "78703,\n",
    "78704,\n",
    "78705,\n",
    "78717,\n",
    "78719,\n",
    "78721,\n",
    "78722,\n",
    "78723,\n",
    "78724,\n",
    "78725,\n",
    "78726,\n",
    "78727,\n",
    "78728,\n",
    "78729,\n",
    "78730,\n",
    "78731,\n",
    "78732,\n",
    "78733,\n",
    "78734,\n",
    "78735,\n",
    "78736,\n",
    "78737,\n",
    "78738,\n",
    "78739,\n",
    "78741,\n",
    "78742,\n",
    "78744,\n",
    "78745,\n",
    "78746,\n",
    "78747,\n",
    "78748,\n",
    "78749,\n",
    "78750,\n",
    "78751,\n",
    "78752,\n",
    "78753,\n",
    "78754,\n",
    "78756,\n",
    "78757,\n",
    "78758,\n",
    "78759,\n",
    "78617,\n",
    "78653,\n",
    "78660)"
   ]
  },
  {
   "cell_type": "markdown",
   "metadata": {},
   "source": [
    "### Permits Data"
   ]
  },
  {
   "cell_type": "code",
   "execution_count": 4,
   "metadata": {},
   "outputs": [
    {
     "name": "stderr",
     "output_type": "stream",
     "text": [
      "/Users/carolinekinnen/opt/anaconda3/lib/python3.8/site-packages/IPython/core/interactiveshell.py:3146: DtypeWarning: Columns (54,58,59,60,61,62,63,64,65) have mixed types.Specify dtype option on import or set low_memory=False.\n",
      "  has_raised = await self.run_ast_nodes(code_ast.body, cell_name,\n"
     ]
    }
   ],
   "source": [
    "permits_data = pd.read_csv(\"raw_data/Issued_Construction_Permits.csv\")"
   ]
  },
  {
   "cell_type": "code",
   "execution_count": 41,
   "metadata": {},
   "outputs": [],
   "source": [
    "permits = permits_data.loc[:,('Permit Num', 'Permit Class Mapped', 'Calendar Year Issued', \n",
    "                    'Total Job Valuation', 'Original Zip')]\n",
    "\n",
    "permits = permits[permits['Calendar Year Issued'] >= 2011]\n",
    "permits = permits[permits['Original Zip'].isin(austin_zips)]"
   ]
  },
  {
   "cell_type": "code",
   "execution_count": 44,
   "metadata": {},
   "outputs": [],
   "source": [
    "permits_year_count = permits.groupby(['Calendar Year Issued', 'Original Zip']).size().reset_index()\n",
    "permits_year_count.rename(columns = {0: \"Count\"}, inplace = True)"
   ]
  },
  {
   "cell_type": "code",
   "execution_count": 62,
   "metadata": {
    "scrolled": true
   },
   "outputs": [
    {
     "data": {
      "text/html": [
       "<div>\n",
       "<style scoped>\n",
       "    .dataframe tbody tr th:only-of-type {\n",
       "        vertical-align: middle;\n",
       "    }\n",
       "\n",
       "    .dataframe tbody tr th {\n",
       "        vertical-align: top;\n",
       "    }\n",
       "\n",
       "    .dataframe thead th {\n",
       "        text-align: right;\n",
       "    }\n",
       "</style>\n",
       "<table border=\"1\" class=\"dataframe\">\n",
       "  <thead>\n",
       "    <tr style=\"text-align: right;\">\n",
       "      <th></th>\n",
       "      <th>Calendar Year Issued</th>\n",
       "      <th>Original Zip</th>\n",
       "      <th>Count</th>\n",
       "    </tr>\n",
       "  </thead>\n",
       "  <tbody>\n",
       "    <tr>\n",
       "      <th>0</th>\n",
       "      <td>2011</td>\n",
       "      <td>78617.0</td>\n",
       "      <td>485</td>\n",
       "    </tr>\n",
       "    <tr>\n",
       "      <th>1</th>\n",
       "      <td>2011</td>\n",
       "      <td>78653.0</td>\n",
       "      <td>12</td>\n",
       "    </tr>\n",
       "    <tr>\n",
       "      <th>2</th>\n",
       "      <td>2011</td>\n",
       "      <td>78660.0</td>\n",
       "      <td>303</td>\n",
       "    </tr>\n",
       "    <tr>\n",
       "      <th>3</th>\n",
       "      <td>2011</td>\n",
       "      <td>78701.0</td>\n",
       "      <td>1427</td>\n",
       "    </tr>\n",
       "    <tr>\n",
       "      <th>4</th>\n",
       "      <td>2011</td>\n",
       "      <td>78702.0</td>\n",
       "      <td>1806</td>\n",
       "    </tr>\n",
       "    <tr>\n",
       "      <th>...</th>\n",
       "      <td>...</td>\n",
       "      <td>...</td>\n",
       "      <td>...</td>\n",
       "    </tr>\n",
       "    <tr>\n",
       "      <th>501</th>\n",
       "      <td>2021</td>\n",
       "      <td>78754.0</td>\n",
       "      <td>614</td>\n",
       "    </tr>\n",
       "    <tr>\n",
       "      <th>502</th>\n",
       "      <td>2021</td>\n",
       "      <td>78756.0</td>\n",
       "      <td>246</td>\n",
       "    </tr>\n",
       "    <tr>\n",
       "      <th>503</th>\n",
       "      <td>2021</td>\n",
       "      <td>78757.0</td>\n",
       "      <td>801</td>\n",
       "    </tr>\n",
       "    <tr>\n",
       "      <th>504</th>\n",
       "      <td>2021</td>\n",
       "      <td>78758.0</td>\n",
       "      <td>511</td>\n",
       "    </tr>\n",
       "    <tr>\n",
       "      <th>505</th>\n",
       "      <td>2021</td>\n",
       "      <td>78759.0</td>\n",
       "      <td>651</td>\n",
       "    </tr>\n",
       "  </tbody>\n",
       "</table>\n",
       "<p>506 rows × 3 columns</p>\n",
       "</div>"
      ],
      "text/plain": [
       "     Calendar Year Issued  Original Zip  Count\n",
       "0                    2011       78617.0    485\n",
       "1                    2011       78653.0     12\n",
       "2                    2011       78660.0    303\n",
       "3                    2011       78701.0   1427\n",
       "4                    2011       78702.0   1806\n",
       "..                    ...           ...    ...\n",
       "501                  2021       78754.0    614\n",
       "502                  2021       78756.0    246\n",
       "503                  2021       78757.0    801\n",
       "504                  2021       78758.0    511\n",
       "505                  2021       78759.0    651\n",
       "\n",
       "[506 rows x 3 columns]"
      ]
     },
     "execution_count": 62,
     "metadata": {},
     "output_type": "execute_result"
    }
   ],
   "source": [
    "permits_year_count"
   ]
  }
 ],
 "metadata": {
  "kernelspec": {
   "display_name": "Python 3",
   "language": "python",
   "name": "python3"
  },
  "language_info": {
   "codemirror_mode": {
    "name": "ipython",
    "version": 3
   },
   "file_extension": ".py",
   "mimetype": "text/x-python",
   "name": "python",
   "nbconvert_exporter": "python",
   "pygments_lexer": "ipython3",
   "version": "3.8.5"
  }
 },
 "nbformat": 4,
 "nbformat_minor": 4
}
