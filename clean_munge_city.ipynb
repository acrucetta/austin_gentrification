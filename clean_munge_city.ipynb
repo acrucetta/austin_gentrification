{
 "cells": [
  {
   "cell_type": "markdown",
   "metadata": {},
   "source": [
    "# Data Cleaning and Munging Script - City Data Portal"
   ]
  },
  {
   "cell_type": "code",
   "execution_count": 171,
   "metadata": {
    "scrolled": true
   },
   "outputs": [],
   "source": [
    "import pandas as pd\n",
    "import matplotlib.pyplot as plt\n",
    "import seaborn as sns\n",
    "import numpy as np\n",
    "\n",
    "%matplotlib inline\n",
    "pd.options.mode.chained_assignment = None\n",
    "sns.set()"
   ]
  },
  {
   "cell_type": "code",
   "execution_count": 623,
   "metadata": {},
   "outputs": [],
   "source": [
    "austin_zips = (78701,\n",
    "78702,\n",
    "78703,\n",
    "78704,\n",
    "78705,\n",
    "78717,\n",
    "78719,\n",
    "78721,\n",
    "78722,\n",
    "78723,\n",
    "78724,\n",
    "78725,\n",
    "78726,\n",
    "78727,\n",
    "78728,\n",
    "78729,\n",
    "78730,\n",
    "78731,\n",
    "78732,\n",
    "78733,\n",
    "78734,\n",
    "78735,\n",
    "78736,\n",
    "78737,\n",
    "78739,\n",
    "78741,\n",
    "78742,\n",
    "78744,\n",
    "78745,\n",
    "78746,\n",
    "78747,\n",
    "78748,\n",
    "78749,\n",
    "78750,\n",
    "78751,\n",
    "78752,\n",
    "78753,\n",
    "78754,\n",
    "78756,\n",
    "78757,\n",
    "78758,\n",
    "78759,\n",
    "78617,\n",
    "78653,\n",
    "78660)"
   ]
  },
  {
   "cell_type": "markdown",
   "metadata": {},
   "source": [
    "### Permits Data"
   ]
  },
  {
   "cell_type": "code",
   "execution_count": 624,
   "metadata": {},
   "outputs": [
    {
     "name": "stderr",
     "output_type": "stream",
     "text": [
      "/Users/carolinekinnen/opt/anaconda3/lib/python3.8/site-packages/IPython/core/interactiveshell.py:3146: DtypeWarning: Columns (54,58,59,60,61,62,63,64,65) have mixed types.Specify dtype option on import or set low_memory=False.\n",
      "  has_raised = await self.run_ast_nodes(code_ast.body, cell_name,\n"
     ]
    }
   ],
   "source": [
    "permits_data = pd.read_csv(\"raw_data/Issued_Construction_Permits.csv\")"
   ]
  },
  {
   "cell_type": "code",
   "execution_count": 625,
   "metadata": {},
   "outputs": [],
   "source": [
    "permits = permits_data.loc[:,('Permit Num', 'Permit Class Mapped', \n",
    "                              'Calendar Year Issued', 'Original Zip')]\n",
    "\n",
    "permits = permits[permits['Calendar Year Issued'] >= 2011]\n",
    "permits = permits[permits['Original Zip'].isin(austin_zips)]\n",
    "\n",
    "res_permits = permits[permits['Permit Class Mapped'] == \"Residential\"].drop('Permit Class Mapped', axis = 1)\n",
    "com_permits = permits[permits['Permit Class Mapped'] == \"Commercial\"].drop('Permit Class Mapped', axis = 1)"
   ]
  },
  {
   "cell_type": "code",
   "execution_count": 626,
   "metadata": {},
   "outputs": [],
   "source": [
    "res_permits_year_count = res_permits.groupby(['Calendar Year Issued', 'Original Zip']).size().reset_index()\n",
    "res_permits_year_count.rename(columns = {0: \"count\", 'Original Zip': 'zip_code', 'Calendar Year Issued': 'year'}, inplace = True)\n",
    "res_permits_year_count['var_type'] = 'res_permit_count'"
   ]
  },
  {
   "cell_type": "code",
   "execution_count": 627,
   "metadata": {},
   "outputs": [],
   "source": [
    "com_permits_year_count = com_permits.groupby(['Calendar Year Issued', 'Original Zip']).size().reset_index()\n",
    "com_permits_year_count.rename(columns = {0: \"count\", 'Original Zip': 'zip_code', 'Calendar Year Issued': 'year'}, inplace = True)\n",
    "com_permits_year_count['var_type'] = 'commercial_permit_count'"
   ]
  },
  {
   "cell_type": "code",
   "execution_count": 629,
   "metadata": {
    "scrolled": true
   },
   "outputs": [],
   "source": [
    "res_permits_year_count.rename(columns = {'count': 'res_permit_count'}, inplace = True)\n",
    "res = res_permits_year_count.drop('var_type', axis = 1)"
   ]
  },
  {
   "cell_type": "code",
   "execution_count": 631,
   "metadata": {},
   "outputs": [],
   "source": [
    "com_permits_year_count.rename(columns = {'count': 'com_permit_count'}, inplace = True)\n",
    "com = com_permits_year_count.drop('var_type', axis = 1)"
   ]
  },
  {
   "cell_type": "code",
   "execution_count": 669,
   "metadata": {},
   "outputs": [],
   "source": [
    "all_var_df = pd.merge(com, res, on = ('year', 'zip_code'), how = 'outer')\n",
    "all_var_df['year'] = all_var_df['year'].astype(str)"
   ]
  },
  {
   "cell_type": "markdown",
   "metadata": {},
   "source": [
    "### Crime Data"
   ]
  },
  {
   "cell_type": "code",
   "execution_count": 637,
   "metadata": {},
   "outputs": [
    {
     "name": "stderr",
     "output_type": "stream",
     "text": [
      "/Users/carolinekinnen/opt/anaconda3/lib/python3.8/site-packages/IPython/core/interactiveshell.py:3146: DtypeWarning: Columns (0,16) have mixed types.Specify dtype option on import or set low_memory=False.\n",
      "  has_raised = await self.run_ast_nodes(code_ast.body, cell_name,\n"
     ]
    }
   ],
   "source": [
    "crime_data = pd.read_csv(\"raw_data/Crime_Reports.csv\")"
   ]
  },
  {
   "cell_type": "code",
   "execution_count": 638,
   "metadata": {},
   "outputs": [],
   "source": [
    "crime = crime_data.loc[:,('Incident Number', 'Highest Offense Description', 'Occurred Date Time', 'Zip Code')]"
   ]
  },
  {
   "cell_type": "code",
   "execution_count": 639,
   "metadata": {},
   "outputs": [],
   "source": [
    "conditions = [\n",
    "    (crime['Highest Offense Description'].isin(['ASSAULT BY CONTACT', 'ASSAULT WITH INJURY', 'ASSAULT W/INJURY-FAM/DATE VIOL'])),\n",
    "    (crime['Highest Offense Description'].isin(['AUTO-THEFT', 'BURGLARY NON RESIDENCE', 'BURGLARY OF RESIDENCE', 'BURGLARY OF VEHICLE', 'THEFT', 'THEFT BY SHOPLIFTING'])),\n",
    "    (crime['Highest Offense Description'].isin(['CRIMINAL MISCHIEF', 'CRIMINAL TRESPASS', 'DISTURBANCE - OTHER', 'FAMILY DISTURBANCE', 'HARASSMENT'])),\n",
    "    (crime['Highest Offense Description'].isin(['CUSTODY ARREST TRAFFIC WARR', 'WARRANT ARREST NON TRAFFIC'])),\n",
    "    (crime['Highest Offense Description'].isin(['DWI', 'PUBLIC INTOXICATION'])),\n",
    "    (crime['Highest Offense Description'].isin(['IDENTITY THEFT'])),\n",
    "    (crime['Highest Offense Description'].isin(['POSS CONTROLLED SUB/NARCOTIC', 'POSS OF DRUG PARAPHERNALIA', 'POSSESSION OF MARIJUANA'])),\n",
    "    (crime['Highest Offense Description'].isin(['RUNAWAY CHILD'])),\n",
    "    ]\n",
    "     \n",
    "values = ['assault', 'theft', 'criminal_activity', 'warrent_arrest', \n",
    "          'public_intoxication', 'identity_theft', 'narcotics', 'runaway_child']\n",
    "\n",
    "crime['Offense Category'] = np.select(conditions, values)\n",
    "crime = crime[crime['Offense Category'] != '0'].drop('Highest Offense Description', axis = 1)"
   ]
  },
  {
   "cell_type": "code",
   "execution_count": 640,
   "metadata": {},
   "outputs": [],
   "source": [
    "crime.loc[:,'Occurred Date Time'] = pd.to_datetime(crime.loc[:,'Occurred Date Time'])\n",
    "crime['year'] = crime.loc[:,'Occurred Date Time'].dt.to_period(\"Y\")\n",
    "crime = crime.drop('Occurred Date Time', axis = 1)"
   ]
  },
  {
   "cell_type": "code",
   "execution_count": 641,
   "metadata": {},
   "outputs": [],
   "source": [
    "crime_count = crime.groupby(['Offense Category', 'year', 'Zip Code']).size().reset_index()\n",
    "crime_count['var_type'] = 'count_' + crime_count['Offense Category'] + '_crime'\n",
    "crime_count.rename(columns = {'Zip Code': 'zip_code', 0:'count'}, inplace = True)\n",
    "crime_count = crime_count.drop('Offense Category', axis = 1)\n",
    "crime_count = crime_count[crime_count['year'] >= pd.Period('2011')]\n",
    "crime_count = crime_count[crime_count['zip_code'].isin(austin_zips)]"
   ]
  },
  {
   "cell_type": "code",
   "execution_count": 642,
   "metadata": {
    "scrolled": false
   },
   "outputs": [],
   "source": [
    "crime_pivot = crime_count.pivot(index=[\"year\", \"zip_code\"], columns=\"var_type\").reset_index()"
   ]
  },
  {
   "cell_type": "code",
   "execution_count": 643,
   "metadata": {},
   "outputs": [],
   "source": [
    "crime_join = pd.DataFrame(crime_pivot.loc[:, 'year'])\n",
    "crime_join['zip_code'] = pd.DataFrame(crime_pivot.loc[:,'zip_code'])\n",
    "crime_join['count_assault_crime'] = crime_pivot.xs('count_assault_crime', level = 'var_type', axis = 1) "
   ]
  },
  {
   "cell_type": "code",
   "execution_count": 644,
   "metadata": {},
   "outputs": [],
   "source": [
    "for col in crime_pivot.columns:\n",
    "    col_name = col[1]\n",
    "    if col_name != '':\n",
    "        crime_join[col_name] = crime_pivot.xs(col_name, level = 'var_type', axis = 1)"
   ]
  },
  {
   "cell_type": "code",
   "execution_count": 651,
   "metadata": {
    "scrolled": false
   },
   "outputs": [],
   "source": [
    "# 2019 is missing 2 zip codes \n",
    "# 2020 is missing 2 zip codes\n",
    "# 2021 is missing 3 zip codes\n",
    "\n",
    "#78734 missing from 2019 and 2020 and 2021\n",
    "#78733 missing from 2021\n",
    "\n",
    "#zips = crime_join[crime_join['year'] == '2021']['zip_code'].unique()#.groupby('zip_code').count()\n",
    "#missing = {element for element in austin_zips if element not in zips}\n",
    "#missing\n",
    "\n",
    "crime_join = crime_join.append({'year': pd.Period(2019), 'zip_code':78734, 'count_assault_crime':0, 'count_criminal_activity_crime':0,\n",
    "                  'count_identity_theft_crime': 0, 'count_narcotics_crime': 0, 'count_public_intoxication_crime':0,\n",
    "                  'count_runaway_child_crime':0, 'count_theft_crime':0, 'count_warrent_arrest_crime':0}, ignore_index = True)\n"
   ]
  },
  {
   "cell_type": "code",
   "execution_count": 721,
   "metadata": {},
   "outputs": [],
   "source": [
    "crime_join['zip_code'] = crime_join['zip_code'].astype(str)\n",
    "crime_join['year'] = crime_join['year'].astype(str)"
   ]
  },
  {
   "cell_type": "code",
   "execution_count": 724,
   "metadata": {},
   "outputs": [],
   "source": [
    "all_var_df = pd.merge(all_var_df, crime_join, on = ('year', 'zip_code'), how = 'outer')"
   ]
  },
  {
   "cell_type": "markdown",
   "metadata": {},
   "source": [
    "### Water Consumption Data"
   ]
  },
  {
   "cell_type": "code",
   "execution_count": 464,
   "metadata": {},
   "outputs": [],
   "source": [
    "water_data_com = pd.read_csv(\"raw_data/Austin_Water_-_Commercial_Water_Consumption.csv\")\n",
    "water_data_com['var_type'] = 'commercial_water_use_gal'\n",
    "water_data_res = pd.read_csv(\"raw_data/Austin_Water_-_Residential_Water_Consumption.csv\")\n",
    "water_data_res['var_type'] = 'res_water_use_gal'\n",
    "\n",
    "water_data = water_data_res.append(water_data_com)\n",
    "water_data['year'] = water_data['Year Month'].astype(str).str[0:4]"
   ]
  },
  {
   "cell_type": "code",
   "execution_count": 730,
   "metadata": {
    "scrolled": true
   },
   "outputs": [],
   "source": [
    "water = water_data.loc[:,('year', 'Postal Code', 'Total Gallons', 'var_type', 'Customer Class')]\n",
    "water.rename(columns = {'Postal Code': 'zip_code'}, inplace = True)\n",
    "water = water[water['zip_code'].isin(austin_zips)]"
   ]
  },
  {
   "cell_type": "code",
   "execution_count": 812,
   "metadata": {},
   "outputs": [],
   "source": [
    "# reading in from a csv created in R because group by is impossible in Pandas\n",
    "water_grouped = pd.read_csv(\"raw_data/water_grouped_sum.csv\")"
   ]
  },
  {
   "cell_type": "code",
   "execution_count": 813,
   "metadata": {
    "scrolled": true
   },
   "outputs": [],
   "source": [
    "water_grouped.rename(columns = {'postal_code': 'zip_code', 'commercial': 'total_gal_water_com', 'residential': 'total_gal_water_res'}, inplace = True)"
   ]
  },
  {
   "cell_type": "code",
   "execution_count": 821,
   "metadata": {},
   "outputs": [],
   "source": [
    "water_grouped['zip_code'] = water_grouped['zip_code'].astype(float)\n",
    "water_grouped['zip_code'] = water_grouped['zip_code'].astype(str)\n",
    "water_grouped['year'] = water_grouped['year'].astype(str)"
   ]
  },
  {
   "cell_type": "code",
   "execution_count": 827,
   "metadata": {
    "scrolled": true
   },
   "outputs": [],
   "source": [
    "all_var_df = pd.merge(all_var_df, water_grouped, on = ('year', 'zip_code'), how = 'outer')"
   ]
  },
  {
   "cell_type": "code",
   "execution_count": 828,
   "metadata": {},
   "outputs": [
    {
     "data": {
      "text/html": [
       "<div>\n",
       "<style scoped>\n",
       "    .dataframe tbody tr th:only-of-type {\n",
       "        vertical-align: middle;\n",
       "    }\n",
       "\n",
       "    .dataframe tbody tr th {\n",
       "        vertical-align: top;\n",
       "    }\n",
       "\n",
       "    .dataframe thead th {\n",
       "        text-align: right;\n",
       "    }\n",
       "</style>\n",
       "<table border=\"1\" class=\"dataframe\">\n",
       "  <thead>\n",
       "    <tr style=\"text-align: right;\">\n",
       "      <th></th>\n",
       "      <th>year</th>\n",
       "      <th>zip_code</th>\n",
       "      <th>com_permit_count</th>\n",
       "      <th>res_permit_count</th>\n",
       "      <th>count_assault_crime</th>\n",
       "      <th>count_criminal_activity_crime</th>\n",
       "      <th>count_identity_theft_crime</th>\n",
       "      <th>count_narcotics_crime</th>\n",
       "      <th>count_public_intoxication_crime</th>\n",
       "      <th>count_runaway_child_crime</th>\n",
       "      <th>count_theft_crime</th>\n",
       "      <th>count_warrent_arrest_crime</th>\n",
       "      <th>total_gal_water_com</th>\n",
       "      <th>total_gal_water_res</th>\n",
       "    </tr>\n",
       "  </thead>\n",
       "  <tbody>\n",
       "    <tr>\n",
       "      <th>0</th>\n",
       "      <td>2011</td>\n",
       "      <td>78617.0</td>\n",
       "      <td>78.0</td>\n",
       "      <td>407.0</td>\n",
       "      <td>66.0</td>\n",
       "      <td>278.0</td>\n",
       "      <td>12.0</td>\n",
       "      <td>32.0</td>\n",
       "      <td>17.0</td>\n",
       "      <td>32.0</td>\n",
       "      <td>184.0</td>\n",
       "      <td>46.0</td>\n",
       "      <td>NaN</td>\n",
       "      <td>NaN</td>\n",
       "    </tr>\n",
       "    <tr>\n",
       "      <th>1</th>\n",
       "      <td>2011</td>\n",
       "      <td>78653.0</td>\n",
       "      <td>8.0</td>\n",
       "      <td>4.0</td>\n",
       "      <td>5.0</td>\n",
       "      <td>28.0</td>\n",
       "      <td>4.0</td>\n",
       "      <td>2.0</td>\n",
       "      <td>2.0</td>\n",
       "      <td>1.0</td>\n",
       "      <td>22.0</td>\n",
       "      <td>4.0</td>\n",
       "      <td>NaN</td>\n",
       "      <td>NaN</td>\n",
       "    </tr>\n",
       "    <tr>\n",
       "      <th>2</th>\n",
       "      <td>2011</td>\n",
       "      <td>78660.0</td>\n",
       "      <td>70.0</td>\n",
       "      <td>233.0</td>\n",
       "      <td>14.0</td>\n",
       "      <td>29.0</td>\n",
       "      <td>2.0</td>\n",
       "      <td>2.0</td>\n",
       "      <td>19.0</td>\n",
       "      <td>1.0</td>\n",
       "      <td>66.0</td>\n",
       "      <td>20.0</td>\n",
       "      <td>NaN</td>\n",
       "      <td>NaN</td>\n",
       "    </tr>\n",
       "    <tr>\n",
       "      <th>3</th>\n",
       "      <td>2011</td>\n",
       "      <td>78701.0</td>\n",
       "      <td>1372.0</td>\n",
       "      <td>55.0</td>\n",
       "      <td>523.0</td>\n",
       "      <td>732.0</td>\n",
       "      <td>40.0</td>\n",
       "      <td>399.0</td>\n",
       "      <td>1583.0</td>\n",
       "      <td>4.0</td>\n",
       "      <td>1283.0</td>\n",
       "      <td>719.0</td>\n",
       "      <td>NaN</td>\n",
       "      <td>NaN</td>\n",
       "    </tr>\n",
       "    <tr>\n",
       "      <th>4</th>\n",
       "      <td>2011</td>\n",
       "      <td>78702.0</td>\n",
       "      <td>520.0</td>\n",
       "      <td>1286.0</td>\n",
       "      <td>371.0</td>\n",
       "      <td>1129.0</td>\n",
       "      <td>36.0</td>\n",
       "      <td>752.0</td>\n",
       "      <td>356.0</td>\n",
       "      <td>85.0</td>\n",
       "      <td>1390.0</td>\n",
       "      <td>645.0</td>\n",
       "      <td>NaN</td>\n",
       "      <td>NaN</td>\n",
       "    </tr>\n",
       "    <tr>\n",
       "      <th>...</th>\n",
       "      <td>...</td>\n",
       "      <td>...</td>\n",
       "      <td>...</td>\n",
       "      <td>...</td>\n",
       "      <td>...</td>\n",
       "      <td>...</td>\n",
       "      <td>...</td>\n",
       "      <td>...</td>\n",
       "      <td>...</td>\n",
       "      <td>...</td>\n",
       "      <td>...</td>\n",
       "      <td>...</td>\n",
       "      <td>...</td>\n",
       "      <td>...</td>\n",
       "    </tr>\n",
       "    <tr>\n",
       "      <th>490</th>\n",
       "      <td>2021</td>\n",
       "      <td>78756.0</td>\n",
       "      <td>46.0</td>\n",
       "      <td>200.0</td>\n",
       "      <td>11.0</td>\n",
       "      <td>43.0</td>\n",
       "      <td>14.0</td>\n",
       "      <td>1.0</td>\n",
       "      <td>3.0</td>\n",
       "      <td>NaN</td>\n",
       "      <td>31.0</td>\n",
       "      <td>NaN</td>\n",
       "      <td>NaN</td>\n",
       "      <td>NaN</td>\n",
       "    </tr>\n",
       "    <tr>\n",
       "      <th>491</th>\n",
       "      <td>2021</td>\n",
       "      <td>78757.0</td>\n",
       "      <td>100.0</td>\n",
       "      <td>701.0</td>\n",
       "      <td>30.0</td>\n",
       "      <td>96.0</td>\n",
       "      <td>46.0</td>\n",
       "      <td>10.0</td>\n",
       "      <td>17.0</td>\n",
       "      <td>NaN</td>\n",
       "      <td>138.0</td>\n",
       "      <td>NaN</td>\n",
       "      <td>NaN</td>\n",
       "      <td>NaN</td>\n",
       "    </tr>\n",
       "    <tr>\n",
       "      <th>492</th>\n",
       "      <td>2021</td>\n",
       "      <td>78758.0</td>\n",
       "      <td>230.0</td>\n",
       "      <td>281.0</td>\n",
       "      <td>147.0</td>\n",
       "      <td>381.0</td>\n",
       "      <td>65.0</td>\n",
       "      <td>28.0</td>\n",
       "      <td>46.0</td>\n",
       "      <td>14.0</td>\n",
       "      <td>304.0</td>\n",
       "      <td>1.0</td>\n",
       "      <td>NaN</td>\n",
       "      <td>NaN</td>\n",
       "    </tr>\n",
       "    <tr>\n",
       "      <th>493</th>\n",
       "      <td>2021</td>\n",
       "      <td>78759.0</td>\n",
       "      <td>134.0</td>\n",
       "      <td>517.0</td>\n",
       "      <td>35.0</td>\n",
       "      <td>144.0</td>\n",
       "      <td>62.0</td>\n",
       "      <td>10.0</td>\n",
       "      <td>11.0</td>\n",
       "      <td>4.0</td>\n",
       "      <td>156.0</td>\n",
       "      <td>NaN</td>\n",
       "      <td>NaN</td>\n",
       "      <td>NaN</td>\n",
       "    </tr>\n",
       "    <tr>\n",
       "      <th>494</th>\n",
       "      <td>2021</td>\n",
       "      <td>78742.0</td>\n",
       "      <td>NaN</td>\n",
       "      <td>8.0</td>\n",
       "      <td>3.0</td>\n",
       "      <td>7.0</td>\n",
       "      <td>NaN</td>\n",
       "      <td>1.0</td>\n",
       "      <td>1.0</td>\n",
       "      <td>NaN</td>\n",
       "      <td>9.0</td>\n",
       "      <td>NaN</td>\n",
       "      <td>NaN</td>\n",
       "      <td>NaN</td>\n",
       "    </tr>\n",
       "  </tbody>\n",
       "</table>\n",
       "<p>495 rows × 14 columns</p>\n",
       "</div>"
      ],
      "text/plain": [
       "     year zip_code  com_permit_count  res_permit_count  count_assault_crime  \\\n",
       "0    2011  78617.0              78.0             407.0                 66.0   \n",
       "1    2011  78653.0               8.0               4.0                  5.0   \n",
       "2    2011  78660.0              70.0             233.0                 14.0   \n",
       "3    2011  78701.0            1372.0              55.0                523.0   \n",
       "4    2011  78702.0             520.0            1286.0                371.0   \n",
       "..    ...      ...               ...               ...                  ...   \n",
       "490  2021  78756.0              46.0             200.0                 11.0   \n",
       "491  2021  78757.0             100.0             701.0                 30.0   \n",
       "492  2021  78758.0             230.0             281.0                147.0   \n",
       "493  2021  78759.0             134.0             517.0                 35.0   \n",
       "494  2021  78742.0               NaN               8.0                  3.0   \n",
       "\n",
       "     count_criminal_activity_crime  count_identity_theft_crime  \\\n",
       "0                            278.0                        12.0   \n",
       "1                             28.0                         4.0   \n",
       "2                             29.0                         2.0   \n",
       "3                            732.0                        40.0   \n",
       "4                           1129.0                        36.0   \n",
       "..                             ...                         ...   \n",
       "490                           43.0                        14.0   \n",
       "491                           96.0                        46.0   \n",
       "492                          381.0                        65.0   \n",
       "493                          144.0                        62.0   \n",
       "494                            7.0                         NaN   \n",
       "\n",
       "     count_narcotics_crime  count_public_intoxication_crime  \\\n",
       "0                     32.0                             17.0   \n",
       "1                      2.0                              2.0   \n",
       "2                      2.0                             19.0   \n",
       "3                    399.0                           1583.0   \n",
       "4                    752.0                            356.0   \n",
       "..                     ...                              ...   \n",
       "490                    1.0                              3.0   \n",
       "491                   10.0                             17.0   \n",
       "492                   28.0                             46.0   \n",
       "493                   10.0                             11.0   \n",
       "494                    1.0                              1.0   \n",
       "\n",
       "     count_runaway_child_crime  count_theft_crime  count_warrent_arrest_crime  \\\n",
       "0                         32.0              184.0                        46.0   \n",
       "1                          1.0               22.0                         4.0   \n",
       "2                          1.0               66.0                        20.0   \n",
       "3                          4.0             1283.0                       719.0   \n",
       "4                         85.0             1390.0                       645.0   \n",
       "..                         ...                ...                         ...   \n",
       "490                        NaN               31.0                         NaN   \n",
       "491                        NaN              138.0                         NaN   \n",
       "492                       14.0              304.0                         1.0   \n",
       "493                        4.0              156.0                         NaN   \n",
       "494                        NaN                9.0                         NaN   \n",
       "\n",
       "     total_gal_water_com  total_gal_water_res  \n",
       "0                    NaN                  NaN  \n",
       "1                    NaN                  NaN  \n",
       "2                    NaN                  NaN  \n",
       "3                    NaN                  NaN  \n",
       "4                    NaN                  NaN  \n",
       "..                   ...                  ...  \n",
       "490                  NaN                  NaN  \n",
       "491                  NaN                  NaN  \n",
       "492                  NaN                  NaN  \n",
       "493                  NaN                  NaN  \n",
       "494                  NaN                  NaN  \n",
       "\n",
       "[495 rows x 14 columns]"
      ]
     },
     "execution_count": 828,
     "metadata": {},
     "output_type": "execute_result"
    }
   ],
   "source": [
    "all_var_df"
   ]
  },
  {
   "cell_type": "markdown",
   "metadata": {},
   "source": [
    "### 311 Data"
   ]
  },
  {
   "cell_type": "code",
   "execution_count": 437,
   "metadata": {
    "scrolled": true
   },
   "outputs": [
    {
     "name": "stderr",
     "output_type": "stream",
     "text": [
      "/Users/carolinekinnen/opt/anaconda3/lib/python3.8/site-packages/IPython/core/interactiveshell.py:3146: DtypeWarning: Columns (11) have mixed types.Specify dtype option on import or set low_memory=False.\n",
      "  has_raised = await self.run_ast_nodes(code_ast.body, cell_name,\n"
     ]
    }
   ],
   "source": [
    "three11_data = pd.read_csv(\"raw_data/311_Unified_Data_Test_Site_2019.csv\")"
   ]
  },
  {
   "cell_type": "code",
   "execution_count": 446,
   "metadata": {},
   "outputs": [],
   "source": [
    "conditions = [\n",
    "    (three11_data['SR Description'].isin(['Animal - Proper Care', 'Animal Control - Assistance Request', 'Found Animal Report - Keep', 'Injured / Sick Animal','Loose Dog','Wildlife Exposure'])),\n",
    "    (three11_data['SR Description'].isin(['Austin Code - Request Code Officer'])),\n",
    "    (three11_data['SR Description'].isin(['Graffiti Abatement', 'Public Health - Graffiti Abatement'])),\n",
    "    (three11_data['SR Description'].isin(['Loud Commercial Music'])),\n",
    "    (three11_data['SR Description'].isin(['Park Maintenance - Grounds'])),\n",
    "    (three11_data['SR Description'].isin(['Debris in Street', 'Pothole Repair', 'Sign - Traffic Sign Maintenance', 'Street Light Issue- Address', 'Traffic Signal - Dig Tess Request', 'Traffic Signal - Maintenance'])),\n",
    "    ]\n",
    "     \n",
    "values = ['animal_311', 'request_code_officer_311', 'graffiti_311',\n",
    "          'loud_commercial_music_311', 'park_maintenance_311', 'road_repair_311']\n",
    "\n",
    "three11_data['Reporting Category'] = np.select(conditions, values)\n",
    "three11_small = three11_data[three11_data['Reporting Category'] != '0'].drop('SR Description', axis = 1)"
   ]
  },
  {
   "cell_type": "code",
   "execution_count": 470,
   "metadata": {},
   "outputs": [],
   "source": [
    "three11_small.loc[:,'Created Date'] = pd.to_datetime(three11_small.loc[:,'Created Date'])\n",
    "three11_small['year'] = three11_small.loc[:,'Created Date'].dt.to_period(\"Y\")\n",
    "#crime = crime.drop('Occurred Date Time', axis = 1)"
   ]
  },
  {
   "cell_type": "code",
   "execution_count": 840,
   "metadata": {},
   "outputs": [],
   "source": [
    "three11 = three11_small[three11_small['year'] >= pd.Period(2011)]\n",
    "three11 = three11[three11['Zip Code'].isin(austin_zips)]\n",
    "#three11 = three11.loc[:,('Zip Code', 'Service Request (SR) Number', 'Reporting Category', 'year')]"
   ]
  },
  {
   "cell_type": "code",
   "execution_count": 853,
   "metadata": {},
   "outputs": [],
   "source": [
    "three11_gb = three11.groupby(['Reporting Category', 'year', 'Zip Code']).size().reset_index()\n",
    "three11_gb['var_type'] = 'count_' + three11_gb['Reporting Category'] + '_report'\n",
    "three11_gb.rename(columns = {'Zip Code': 'zip_code', 0:'count'}, inplace = True)\n",
    "three11_gb = three11_gb.drop('Reporting Category', axis = 1)\n",
    "three11_gb = three11_gb[three11_gb['zip_code'].isin(austin_zips)]"
   ]
  },
  {
   "cell_type": "code",
   "execution_count": 855,
   "metadata": {
    "scrolled": true
   },
   "outputs": [],
   "source": [
    "three11_gb['zip_code'] = three11_gb['zip_code'].astype(str)\n",
    "three11_gb['year'] = three11_gb['year'].astype(str)"
   ]
  },
  {
   "cell_type": "code",
   "execution_count": 866,
   "metadata": {
    "scrolled": true
   },
   "outputs": [],
   "source": [
    "three11_pivot = three11_gb.pivot(index=[\"year\", \"zip_code\"], columns=\"var_type\").reset_index()\n",
    "three11_join = pd.DataFrame(three11_pivot.loc[:, 'year'])\n",
    "three11_join['zip_code'] = pd.DataFrame(three11_pivot.loc[:,'zip_code'])\n",
    "\n",
    "for col in three11_pivot.columns:\n",
    "    col_name = col[1]\n",
    "    if col_name != '':\n",
    "        three11_join[col_name] = three11_pivot.xs(col_name, level = 'var_type', axis = 1)"
   ]
  },
  {
   "cell_type": "code",
   "execution_count": 869,
   "metadata": {},
   "outputs": [],
   "source": [
    "all_var_df = pd.merge(all_var_df, three11_join, on = ('year', 'zip_code'), how = 'outer')"
   ]
  },
  {
   "cell_type": "code",
   "execution_count": 881,
   "metadata": {},
   "outputs": [],
   "source": [
    "all_var_df = all_var_df[all_var_df['year'] != '2021']\n",
    "all_var_df['zip_code'] = all_var_df['zip_code'].str[0:5]"
   ]
  },
  {
   "cell_type": "code",
   "execution_count": 883,
   "metadata": {},
   "outputs": [],
   "source": [
    "all_var_df.to_csv(\"clean_data/city_portal_data.csv\")"
   ]
  }
 ],
 "metadata": {
  "kernelspec": {
   "display_name": "Python 3",
   "language": "python",
   "name": "python3"
  },
  "language_info": {
   "codemirror_mode": {
    "name": "ipython",
    "version": 3
   },
   "file_extension": ".py",
   "mimetype": "text/x-python",
   "name": "python",
   "nbconvert_exporter": "python",
   "pygments_lexer": "ipython3",
   "version": "3.8.5"
  }
 },
 "nbformat": 4,
 "nbformat_minor": 4
}
